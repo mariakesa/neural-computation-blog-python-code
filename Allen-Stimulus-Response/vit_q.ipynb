{
 "cells": [
  {
   "cell_type": "code",
   "execution_count": 16,
   "metadata": {},
   "outputs": [],
   "source": [
    "import pandas as pd\n",
    "import matplotlib.pyplot as plt\n",
    "import numpy as np"
   ]
  },
  {
   "cell_type": "code",
   "execution_count": 17,
   "metadata": {},
   "outputs": [],
   "source": [
    "dat=pd.read_csv('/home/maria/neural-computation-blog-python-code/Allen-Stimulus-Response/first_q_test.csv')"
   ]
  },
  {
   "cell_type": "code",
   "execution_count": 18,
   "metadata": {},
   "outputs": [],
   "source": [
    "clip_columns = dat.filter(regex='var_exp_clip_\\d+')\n",
    "dino_columns = dat.filter(regex='var_exp_dino_\\d+')\n",
    "vit_columns= dat.filter(regex='var_exp_vit_\\d+')"
   ]
  },
  {
   "cell_type": "code",
   "execution_count": 19,
   "metadata": {},
   "outputs": [
    {
     "name": "stdout",
     "output_type": "stream",
     "text": [
      "     var_exp_vit_0  var_exp_vit_1  var_exp_vit_2  var_exp_vit_3  \\\n",
      "0         0.447519      -0.074915      -0.189859      -0.070365   \n",
      "1        -0.119796      -0.495418      -0.188268      -0.160370   \n",
      "2        -0.145695      -0.228753       0.672255       0.049792   \n",
      "3         0.040555      -0.168109      -0.186316      -0.152236   \n",
      "4         0.674260       0.008406      -0.080595       0.695127   \n",
      "..             ...            ...            ...            ...   \n",
      "207       0.428332      -0.147728      -0.148001       0.617587   \n",
      "208      -0.117557      -0.193745      -0.204770      -0.170890   \n",
      "209      -0.115634      -0.255113      -0.219874      -0.114891   \n",
      "210       0.787975      -0.020269      -0.226161       0.038499   \n",
      "211      -0.054968      -0.214786      -0.092067      -0.150118   \n",
      "\n",
      "     var_exp_vit_4  var_exp_vit_5  var_exp_vit_6  var_exp_vit_7  \\\n",
      "0        -0.109160       0.491661       0.390736      -0.148701   \n",
      "1        -0.156324      -0.341345      -0.026993      -0.378237   \n",
      "2        -0.199721      -0.149439       0.128962      -0.132039   \n",
      "3        -0.174213      -0.269383      -0.220929      -0.182463   \n",
      "4        -0.087318      -0.200064      -0.032682      -0.009219   \n",
      "..             ...            ...            ...            ...   \n",
      "207       0.234098       0.260355      -0.207337       0.210932   \n",
      "208      -0.161751      -0.226944      -0.074843      -0.223017   \n",
      "209      -0.080792      -0.014717      -0.515451       0.152743   \n",
      "210      -0.100669      -0.189527      -0.186677      -0.169860   \n",
      "211      -0.158479      -0.229716      -0.041913       0.060348   \n",
      "\n",
      "     var_exp_vit_8  var_exp_vit_9  \n",
      "0         0.537747       0.159262  \n",
      "1        -0.181354      -0.266052  \n",
      "2        -0.055763      -0.082594  \n",
      "3        -0.065542      -0.097978  \n",
      "4         0.424720      -0.107239  \n",
      "..             ...            ...  \n",
      "207       0.134423       0.078991  \n",
      "208      -0.059616      -0.192002  \n",
      "209       0.045071      -0.193559  \n",
      "210      -0.095162      -0.311627  \n",
      "211       0.599867      -0.169231  \n",
      "\n",
      "[212 rows x 10 columns]\n"
     ]
    }
   ],
   "source": [
    "print(vit_columns)"
   ]
  },
  {
   "cell_type": "code",
   "execution_count": 20,
   "metadata": {},
   "outputs": [
    {
     "name": "stdout",
     "output_type": "stream",
     "text": [
      "[[1.         0.98223548]\n",
      " [0.98223548 1.        ]]\n",
      "[[1.         0.97981924]\n",
      " [0.97981924 1.        ]]\n",
      "[[1.         0.98472526]\n",
      " [0.98472526 1.        ]]\n",
      "[[1.         0.98625882]\n",
      " [0.98625882 1.        ]]\n",
      "[[1.         0.97755736]\n",
      " [0.97755736 1.        ]]\n",
      "[[1.         0.97711769]\n",
      " [0.97711769 1.        ]]\n",
      "[[1.         0.97829186]\n",
      " [0.97829186 1.        ]]\n",
      "[[1.         0.97162231]\n",
      " [0.97162231 1.        ]]\n",
      "[[1.         0.98475191]\n",
      " [0.98475191 1.        ]]\n",
      "[[1.         0.98119457]\n",
      " [0.98119457 1.        ]]\n"
     ]
    }
   ],
   "source": [
    "\n",
    "for i in range(0,10):\n",
    "    print(np.corrcoef(clip_columns.iloc[:,i].T,vit_columns.iloc[:,i].T))"
   ]
  },
  {
   "cell_type": "code",
   "execution_count": 23,
   "metadata": {},
   "outputs": [
    {
     "name": "stdout",
     "output_type": "stream",
     "text": [
      "[[1.         0.98683025]\n",
      " [0.98683025 1.        ]]\n",
      "[[1.         0.98118749]\n",
      " [0.98118749 1.        ]]\n",
      "[[1.         0.98530909]\n",
      " [0.98530909 1.        ]]\n",
      "[[1.         0.98778706]\n",
      " [0.98778706 1.        ]]\n",
      "[[1.         0.97755965]\n",
      " [0.97755965 1.        ]]\n",
      "[[1.         0.98092919]\n",
      " [0.98092919 1.        ]]\n",
      "[[1.         0.97904333]\n",
      " [0.97904333 1.        ]]\n",
      "[[1.        0.9697279]\n",
      " [0.9697279 1.       ]]\n",
      "[[1.        0.9848543]\n",
      " [0.9848543 1.       ]]\n",
      "[[1.       0.982531]\n",
      " [0.982531 1.      ]]\n"
     ]
    }
   ],
   "source": [
    "for i in range(0,10):\n",
    "    print(np.corrcoef(clip_columns.iloc[:,i].T,dino_columns.iloc[:,i].T))"
   ]
  },
  {
   "cell_type": "code",
   "execution_count": 24,
   "metadata": {},
   "outputs": [
    {
     "name": "stdout",
     "output_type": "stream",
     "text": [
      "[[1.         0.98581787]\n",
      " [0.98581787 1.        ]]\n",
      "[[1.         0.98586035]\n",
      " [0.98586035 1.        ]]\n",
      "[[1.         0.98490597]\n",
      " [0.98490597 1.        ]]\n",
      "[[1.       0.988232]\n",
      " [0.988232 1.      ]]\n",
      "[[1.         0.98573583]\n",
      " [0.98573583 1.        ]]\n",
      "[[1.        0.9866577]\n",
      " [0.9866577 1.       ]]\n",
      "[[1.         0.98434988]\n",
      " [0.98434988 1.        ]]\n",
      "[[1.         0.98203578]\n",
      " [0.98203578 1.        ]]\n",
      "[[1.         0.98843554]\n",
      " [0.98843554 1.        ]]\n",
      "[[1.        0.9861175]\n",
      " [0.9861175 1.       ]]\n"
     ]
    }
   ],
   "source": [
    "for i in range(0,10):\n",
    "    print(np.corrcoef(dino_columns.iloc[:,i].T,vit_columns.iloc[:,i].T))"
   ]
  }
 ],
 "metadata": {
  "kernelspec": {
   "display_name": "base",
   "language": "python",
   "name": "python3"
  },
  "language_info": {
   "codemirror_mode": {
    "name": "ipython",
    "version": 3
   },
   "file_extension": ".py",
   "mimetype": "text/x-python",
   "name": "python",
   "nbconvert_exporter": "python",
   "pygments_lexer": "ipython3",
   "version": "3.9.13"
  }
 },
 "nbformat": 4,
 "nbformat_minor": 2
}
