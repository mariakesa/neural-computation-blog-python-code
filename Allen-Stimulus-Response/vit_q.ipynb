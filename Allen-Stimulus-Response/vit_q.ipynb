{
 "cells": [
  {
   "cell_type": "code",
   "execution_count": 5,
   "metadata": {},
   "outputs": [],
   "source": [
    "import pandas as pd\n",
    "import matplotlib.pyplot as plt\n",
    "import numpy as np"
   ]
  },
  {
   "cell_type": "code",
   "execution_count": 2,
   "metadata": {},
   "outputs": [],
   "source": [
    "dat=pd.read_csv('/home/maria/neural-computation-blog-python-code/Allen-Stimulus-Response/first_q_test.csv')"
   ]
  },
  {
   "cell_type": "code",
   "execution_count": 3,
   "metadata": {},
   "outputs": [],
   "source": [
    "clip_columns = dat.filter(regex='var_exp_clip_\\d+')\n",
    "dino_columns = dat.filter(regex='var_exp_dino_\\d+')\n",
    "vit_columns= dat.filter(regex='var_exp_vit_\\d+')"
   ]
  },
  {
   "cell_type": "code",
   "execution_count": 11,
   "metadata": {},
   "outputs": [
    {
     "name": "stdout",
     "output_type": "stream",
     "text": [
      "     var_exp_vit_0  var_exp_vit_1  var_exp_vit_2  var_exp_vit_3  \\\n",
      "0         0.088367      -0.021250      -0.023926      -0.005261   \n",
      "1        -0.070950      -0.095125      -0.080525      -0.029496   \n",
      "2        -0.086635      -0.108883       0.204169      -0.004970   \n",
      "3        -0.026986      -0.020718      -0.017516      -0.058239   \n",
      "4         0.228179       0.031509      -0.042608       0.419844   \n",
      "..             ...            ...            ...            ...   \n",
      "207       0.142753       0.001231      -0.031145       0.217106   \n",
      "208      -0.039035      -0.050208      -0.006565      -0.033742   \n",
      "209      -0.028818      -0.028852      -0.047261      -0.004894   \n",
      "210       0.200595      -0.024740      -0.033272      -0.014761   \n",
      "211      -0.021580      -0.035466      -0.006561      -0.056820   \n",
      "\n",
      "     var_exp_vit_4  var_exp_vit_5  var_exp_vit_6  var_exp_vit_7  \\\n",
      "0        -0.057160       0.142109       0.108629      -0.065696   \n",
      "1        -0.045603      -0.040204      -0.018493      -0.061822   \n",
      "2        -0.008007      -0.011558       0.030633      -0.039065   \n",
      "3        -0.011134      -0.042394      -0.077738      -0.037653   \n",
      "4        -0.019886      -0.029363      -0.001053      -0.015496   \n",
      "..             ...            ...            ...            ...   \n",
      "207       0.047476       0.076169      -0.022083       0.084761   \n",
      "208      -0.057597      -0.044960      -0.034172      -0.044583   \n",
      "209      -0.021956       0.030615      -0.030462      -0.018459   \n",
      "210      -0.020983      -0.013787      -0.020796      -0.060997   \n",
      "211      -0.035852      -0.068981      -0.028597       0.013986   \n",
      "\n",
      "     var_exp_vit_8  var_exp_vit_9  \n",
      "0         0.175241      -0.013398  \n",
      "1        -0.042383      -0.016907  \n",
      "2        -0.029598      -0.054527  \n",
      "3         0.019300      -0.042694  \n",
      "4         0.009907      -0.019015  \n",
      "..             ...            ...  \n",
      "207       0.008075       0.006168  \n",
      "208       0.014079      -0.035093  \n",
      "209       0.022389      -0.018164  \n",
      "210       0.007511      -0.089834  \n",
      "211       0.168259      -0.016872  \n",
      "\n",
      "[212 rows x 10 columns]\n"
     ]
    }
   ],
   "source": [
    "print(vit_columns)"
   ]
  },
  {
   "cell_type": "code",
   "execution_count": 13,
   "metadata": {},
   "outputs": [
    {
     "name": "stdout",
     "output_type": "stream",
     "text": [
      "[[1.         0.83245248]\n",
      " [0.83245248 1.        ]]\n",
      "[[1.         0.90044815]\n",
      " [0.90044815 1.        ]]\n",
      "[[1.         0.86692405]\n",
      " [0.86692405 1.        ]]\n",
      "[[1.         0.84379242]\n",
      " [0.84379242 1.        ]]\n",
      "[[1.         0.87912304]\n",
      " [0.87912304 1.        ]]\n",
      "[[1.         0.87770923]\n",
      " [0.87770923 1.        ]]\n",
      "[[1.         0.87613808]\n",
      " [0.87613808 1.        ]]\n",
      "[[1.         0.84705012]\n",
      " [0.84705012 1.        ]]\n",
      "[[1.         0.86093122]\n",
      " [0.86093122 1.        ]]\n",
      "[[1.         0.86332066]\n",
      " [0.86332066 1.        ]]\n"
     ]
    }
   ],
   "source": [
    "\n",
    "for i in range(0,10):\n",
    "    print(np.corrcoef(clip_columns.iloc[:,i].T,vit_columns.iloc[:,i].T))"
   ]
  },
  {
   "cell_type": "code",
   "execution_count": 14,
   "metadata": {},
   "outputs": [
    {
     "name": "stdout",
     "output_type": "stream",
     "text": [
      "[[1.         0.98683025]\n",
      " [0.98683025 1.        ]]\n",
      "[[1.         0.98118749]\n",
      " [0.98118749 1.        ]]\n",
      "[[1.         0.98530909]\n",
      " [0.98530909 1.        ]]\n",
      "[[1.         0.98778706]\n",
      " [0.98778706 1.        ]]\n",
      "[[1.         0.97755965]\n",
      " [0.97755965 1.        ]]\n",
      "[[1.         0.98092919]\n",
      " [0.98092919 1.        ]]\n",
      "[[1.         0.97904333]\n",
      " [0.97904333 1.        ]]\n",
      "[[1.        0.9697279]\n",
      " [0.9697279 1.       ]]\n",
      "[[1.        0.9848543]\n",
      " [0.9848543 1.       ]]\n",
      "[[1.       0.982531]\n",
      " [0.982531 1.      ]]\n"
     ]
    }
   ],
   "source": [
    "for i in range(0,10):\n",
    "    print(np.corrcoef(clip_columns.iloc[:,i].T,dino_columns.iloc[:,i].T))"
   ]
  },
  {
   "cell_type": "code",
   "execution_count": 15,
   "metadata": {},
   "outputs": [
    {
     "name": "stdout",
     "output_type": "stream",
     "text": [
      "[[1.         0.82450413]\n",
      " [0.82450413 1.        ]]\n",
      "[[1.         0.90450363]\n",
      " [0.90450363 1.        ]]\n",
      "[[1.         0.86764757]\n",
      " [0.86764757 1.        ]]\n",
      "[[1.         0.83464691]\n",
      " [0.83464691 1.        ]]\n",
      "[[1.         0.87975801]\n",
      " [0.87975801 1.        ]]\n",
      "[[1.         0.88180358]\n",
      " [0.88180358 1.        ]]\n",
      "[[1.         0.87043509]\n",
      " [0.87043509 1.        ]]\n",
      "[[1.         0.85796405]\n",
      " [0.85796405 1.        ]]\n",
      "[[1.         0.86247821]\n",
      " [0.86247821 1.        ]]\n",
      "[[1.         0.86481877]\n",
      " [0.86481877 1.        ]]\n"
     ]
    }
   ],
   "source": [
    "for i in range(0,10):\n",
    "    print(np.corrcoef(dino_columns.iloc[:,i].T,vit_columns.iloc[:,i].T))"
   ]
  }
 ],
 "metadata": {
  "kernelspec": {
   "display_name": "base",
   "language": "python",
   "name": "python3"
  },
  "language_info": {
   "codemirror_mode": {
    "name": "ipython",
    "version": 3
   },
   "file_extension": ".py",
   "mimetype": "text/x-python",
   "name": "python",
   "nbconvert_exporter": "python",
   "pygments_lexer": "ipython3",
   "version": "3.9.13"
  }
 },
 "nbformat": 4,
 "nbformat_minor": 2
}
