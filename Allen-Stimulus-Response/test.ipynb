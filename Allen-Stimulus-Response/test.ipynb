{
 "cells": [
  {
   "cell_type": "code",
   "execution_count": 11,
   "metadata": {},
   "outputs": [],
   "source": [
    "from allensdk.core.brain_observatory_cache import BrainObservatoryCache\n",
    "from config import cache_path, save_path\n",
    "from pathlib import Path\n",
    "import numpy as np"
   ]
  },
  {
   "cell_type": "code",
   "execution_count": 164,
   "metadata": {},
   "outputs": [],
   "source": [
    "boc = BrainObservatoryCache(manifest_file=str(\n",
    "            Path(cache_path) / 'brain_observatory_manifest.json'))\n",
    "\n",
    "eid=501559087\n",
    "#eid=564425777\n",
    "\n",
    "data_dct={}\n",
    "\n",
    "data_set = boc.get_ophys_experiment_data(eid)\n",
    "\n",
    "data_dct['movie_stim_table'] = data_set.get_stimulus_table(\n",
    "                'natural_movie_one')\n",
    "\n",
    "data_dct['neural_responses'] = data_set.get_dff_traces()[1]"
   ]
  },
  {
   "cell_type": "code",
   "execution_count": 145,
   "metadata": {},
   "outputs": [
    {
     "data": {
      "text/plain": [
       "(274, 115721)"
      ]
     },
     "execution_count": 145,
     "metadata": {},
     "output_type": "execute_result"
    }
   ],
   "source": [
    "data_dct['neural_responses'].shape"
   ]
  },
  {
   "cell_type": "code",
   "execution_count": 143,
   "metadata": {},
   "outputs": [
    {
     "data": {
      "text/html": [
       "<div>\n",
       "<style scoped>\n",
       "    .dataframe tbody tr th:only-of-type {\n",
       "        vertical-align: middle;\n",
       "    }\n",
       "\n",
       "    .dataframe tbody tr th {\n",
       "        vertical-align: top;\n",
       "    }\n",
       "\n",
       "    .dataframe thead th {\n",
       "        text-align: right;\n",
       "    }\n",
       "</style>\n",
       "<table border=\"1\" class=\"dataframe\">\n",
       "  <thead>\n",
       "    <tr style=\"text-align: right;\">\n",
       "      <th></th>\n",
       "      <th>frame</th>\n",
       "      <th>start</th>\n",
       "      <th>end</th>\n",
       "      <th>repeat</th>\n",
       "    </tr>\n",
       "  </thead>\n",
       "  <tbody>\n",
       "    <tr>\n",
       "      <th>0</th>\n",
       "      <td>0</td>\n",
       "      <td>38749</td>\n",
       "      <td>38750</td>\n",
       "      <td>0</td>\n",
       "    </tr>\n",
       "    <tr>\n",
       "      <th>1</th>\n",
       "      <td>1</td>\n",
       "      <td>38750</td>\n",
       "      <td>38751</td>\n",
       "      <td>0</td>\n",
       "    </tr>\n",
       "    <tr>\n",
       "      <th>2</th>\n",
       "      <td>2</td>\n",
       "      <td>38751</td>\n",
       "      <td>38752</td>\n",
       "      <td>0</td>\n",
       "    </tr>\n",
       "    <tr>\n",
       "      <th>3</th>\n",
       "      <td>3</td>\n",
       "      <td>38752</td>\n",
       "      <td>38753</td>\n",
       "      <td>0</td>\n",
       "    </tr>\n",
       "    <tr>\n",
       "      <th>4</th>\n",
       "      <td>4</td>\n",
       "      <td>38753</td>\n",
       "      <td>38754</td>\n",
       "      <td>0</td>\n",
       "    </tr>\n",
       "    <tr>\n",
       "      <th>...</th>\n",
       "      <td>...</td>\n",
       "      <td>...</td>\n",
       "      <td>...</td>\n",
       "      <td>...</td>\n",
       "    </tr>\n",
       "    <tr>\n",
       "      <th>8995</th>\n",
       "      <td>895</td>\n",
       "      <td>47795</td>\n",
       "      <td>47795</td>\n",
       "      <td>9</td>\n",
       "    </tr>\n",
       "    <tr>\n",
       "      <th>8996</th>\n",
       "      <td>896</td>\n",
       "      <td>47796</td>\n",
       "      <td>47796</td>\n",
       "      <td>9</td>\n",
       "    </tr>\n",
       "    <tr>\n",
       "      <th>8997</th>\n",
       "      <td>897</td>\n",
       "      <td>47797</td>\n",
       "      <td>47797</td>\n",
       "      <td>9</td>\n",
       "    </tr>\n",
       "    <tr>\n",
       "      <th>8998</th>\n",
       "      <td>898</td>\n",
       "      <td>47798</td>\n",
       "      <td>47798</td>\n",
       "      <td>9</td>\n",
       "    </tr>\n",
       "    <tr>\n",
       "      <th>8999</th>\n",
       "      <td>899</td>\n",
       "      <td>47799</td>\n",
       "      <td>47799</td>\n",
       "      <td>9</td>\n",
       "    </tr>\n",
       "  </tbody>\n",
       "</table>\n",
       "<p>9000 rows × 4 columns</p>\n",
       "</div>"
      ],
      "text/plain": [
       "      frame  start    end  repeat\n",
       "0         0  38749  38750       0\n",
       "1         1  38750  38751       0\n",
       "2         2  38751  38752       0\n",
       "3         3  38752  38753       0\n",
       "4         4  38753  38754       0\n",
       "...     ...    ...    ...     ...\n",
       "8995    895  47795  47795       9\n",
       "8996    896  47796  47796       9\n",
       "8997    897  47797  47797       9\n",
       "8998    898  47798  47798       9\n",
       "8999    899  47799  47799       9\n",
       "\n",
       "[9000 rows x 4 columns]"
      ]
     },
     "execution_count": 143,
     "metadata": {},
     "output_type": "execute_result"
    }
   ],
   "source": [
    "data_dct['movie_stim_table']"
   ]
  },
  {
   "cell_type": "code",
   "execution_count": 141,
   "metadata": {},
   "outputs": [
    {
     "data": {
      "text/plain": [
       "array([[ 4.1375391e-02,  1.8582508e-02,  7.5950958e-02, ...,\n",
       "         3.9312635e-02, -3.0153748e-02,  4.7325236e-03],\n",
       "       [ 1.4622192e-01,  6.7504428e-02, -1.4544210e-02, ...,\n",
       "         1.8862096e+00,  1.6689435e+00,  1.7145643e+00],\n",
       "       [-2.6581520e-02, -9.7623924e-05, -6.5292567e-02, ...,\n",
       "        -5.2210122e-02, -5.1503856e-02,  8.1780646e-03],\n",
       "       ...,\n",
       "       [-3.0112842e-02, -5.1095508e-02, -1.9610340e-02, ...,\n",
       "        -3.0313572e-02,  5.7511050e-02, -8.6430162e-02],\n",
       "       [-1.3270264e-02,  1.1683735e-02, -7.0314378e-02, ...,\n",
       "         5.6903075e-02, -8.9695221e-03, -2.8303338e-02],\n",
       "       [ 4.4263583e-02,  3.8264357e-02, -2.8717842e-02, ...,\n",
       "        -4.9459547e-02, -3.5502523e-02, -2.5548382e-02]], dtype=float32)"
      ]
     },
     "execution_count": 141,
     "metadata": {},
     "output_type": "execute_result"
    }
   ],
   "source": [
    "data_dct['neural_responses'][:,38749:(38749+900)]\n",
    "#X=dff[1][:,38749:(38749+900)]"
   ]
  },
  {
   "cell_type": "code",
   "execution_count": 67,
   "metadata": {},
   "outputs": [
    {
     "name": "stdout",
     "output_type": "stream",
     "text": [
      "Emx1 experiments: 41\n",
      "\n",
      "Example experiment container record:\n",
      "{'cre_line': 'Emx1-IRES-Cre',\n",
      " 'donor_name': '283147',\n",
      " 'failed': False,\n",
      " 'id': 564425775,\n",
      " 'imaging_depth': 175,\n",
      " 'reporter_line': 'Ai93(TITL-GCaMP6f)',\n",
      " 'specimen_name': 'Emx1-IRES-Cre;Camk2a-tTA;Ai93-283147',\n",
      " 'tags': [],\n",
      " 'targeted_structure': 'VISl'}\n",
      "Experiments for experiment_container_id 564425775: 3\n",
      "\n",
      "[{'acquisition_age_days': 121,\n",
      "  'cre_line': 'Emx1-IRES-Cre',\n",
      "  'donor_name': '283147',\n",
      "  'experiment_container_id': 564425775,\n",
      "  'fail_eye_tracking': True,\n",
      "  'id': 567734055,\n",
      "  'imaging_depth': 175,\n",
      "  'reporter_line': 'Ai93(TITL-GCaMP6f)',\n",
      "  'session_type': 'three_session_B',\n",
      "  'specimen_name': 'Emx1-IRES-Cre;Camk2a-tTA;Ai93-283147',\n",
      "  'targeted_structure': 'VISl'},\n",
      " {'acquisition_age_days': 106,\n",
      "  'cre_line': 'Emx1-IRES-Cre',\n",
      "  'donor_name': '283147',\n",
      "  'experiment_container_id': 564425775,\n",
      "  'fail_eye_tracking': True,\n",
      "  'id': 564425777,\n",
      "  'imaging_depth': 175,\n",
      "  'reporter_line': 'Ai93(TITL-GCaMP6f)',\n",
      "  'session_type': 'three_session_A',\n",
      "  'specimen_name': 'Emx1-IRES-Cre;Camk2a-tTA;Ai93-283147',\n",
      "  'targeted_structure': 'VISl'},\n",
      " {'acquisition_age_days': 116,\n",
      "  'cre_line': 'Emx1-IRES-Cre',\n",
      "  'donor_name': '283147',\n",
      "  'experiment_container_id': 564425775,\n",
      "  'fail_eye_tracking': True,\n",
      "  'id': 566752133,\n",
      "  'imaging_depth': 175,\n",
      "  'reporter_line': 'Ai93(TITL-GCaMP6f)',\n",
      "  'session_type': 'three_session_C2',\n",
      "  'specimen_name': 'Emx1-IRES-Cre;Camk2a-tTA;Ai93-283147',\n",
      "  'targeted_structure': 'VISl'}]\n",
      "{'id': 564425777, 'imaging_depth': 175, 'targeted_structure': 'VISl', 'cre_line': 'Emx1-IRES-Cre', 'reporter_line': 'Ai93(TITL-GCaMP6f)', 'acquisition_age_days': 106, 'experiment_container_id': 564425775, 'session_type': 'three_session_A', 'donor_name': '283147', 'specimen_name': 'Emx1-IRES-Cre;Camk2a-tTA;Ai93-283147', 'fail_eye_tracking': True}\n"
     ]
    }
   ],
   "source": [
    "# Download experiment containers for Cux2 experiments\n",
    "#Pan-excitatory\n",
    "import pprint\n",
    "Emx1_exps = boc.get_experiment_containers(cre_lines=['Emx1-IRES-Cre'])\n",
    "print(\"Emx1 experiments: %d\\n\" % len(Emx1_exps))\n",
    "\n",
    "print(\"Example experiment container record:\")\n",
    "pprint.pprint(Emx1_exps[0])\n",
    "\n",
    "# Find all of the experiments for an experiment container\n",
    "Emx1_id = Emx1_exps[0]['id']\n",
    "exps = boc.get_ophys_experiments(experiment_container_ids=[Emx1_id])\n",
    "print(\"Experiments for experiment_container_id %d: %d\\n\" % (Emx1_id, len(exps)))\n",
    "pprint.pprint(exps)\n",
    "exp=exps[1]\n",
    "print(exp)"
   ]
  },
  {
   "cell_type": "code",
   "execution_count": 165,
   "metadata": {},
   "outputs": [
    {
     "name": "stdout",
     "output_type": "stream",
     "text": [
      "(900, 768)\n"
     ]
    }
   ],
   "source": [
    "embeddings=np.load(Path(save_path)/Path('natural_movie_one_dino.npy'))\n",
    "#embeddings=np.load(Path(save_path)/Path('movie_one.npy'))\n",
    "print(embeddings.shape)\n",
    "embeddings=np.load('/home/maria/CalciumImaging/movie_one_dino.npy')\n",
    "#embeddings=np.load(Path(save_path)/Path('natural_movie_one_clip.npy'))"
   ]
  },
  {
   "cell_type": "code",
   "execution_count": 172,
   "metadata": {},
   "outputs": [
    {
     "name": "stdout",
     "output_type": "stream",
     "text": [
      "      frame  start    end  repeat\n",
      "8100      0  78435  78436       9\n",
      "8101      1  78436  78437       9\n",
      "8102      2  78437  78438       9\n",
      "8103      3  78438  78439       9\n",
      "8104      4  78439  78440       9\n",
      "...     ...    ...    ...     ...\n",
      "8995    895  79333  79334       9\n",
      "8996    896  79334  79335       9\n",
      "8997    897  79335  79336       9\n",
      "8998    898  79336  79337       9\n",
      "8999    899  79337  79338       9\n",
      "\n",
      "[900 rows x 4 columns]\n",
      "(174, 720) (174, 180) (720, 768) (180, 768)\n"
     ]
    }
   ],
   "source": [
    "def make_regression_data(data_dct, embeddings):\n",
    "        np.random.seed = 7879\n",
    "        stimuli = data_dct['movie_stim_table'].loc[data_dct['movie_stim_table']['repeat'] == 9]\n",
    "        print(stimuli)\n",
    "\n",
    "        X_train, X_test, y_train_inds, y_test_inds = train_test_split(embeddings,stimuli['start'].values, test_size=0.2, random_state=42)\n",
    "        y_train=data_dct['neural_responses'][:,y_train_inds]\n",
    "        y_test=data_dct['neural_responses'][:,y_test_inds]\n",
    "\n",
    "        return y_train, y_test, X_train, X_test\n",
    "\n",
    "y_train_movie, y_test_movie, train_embedding,test_embedding = make_regression_data(data_dct, embeddings) \n",
    "print(y_train_movie.shape, y_test_movie.shape, train_embedding.shape, test_embedding.shape)"
   ]
  },
  {
   "cell_type": "code",
   "execution_count": 117,
   "metadata": {},
   "outputs": [
    {
     "data": {
      "text/plain": [
       "(720, 274)"
      ]
     },
     "execution_count": 117,
     "metadata": {},
     "output_type": "execute_result"
    }
   ],
   "source": [
    "y_train_movie.shape"
   ]
  },
  {
   "cell_type": "code",
   "execution_count": 173,
   "metadata": {},
   "outputs": [
    {
     "name": "stdout",
     "output_type": "stream",
     "text": [
      "R-squared score: -0.03857131667597996\n"
     ]
    }
   ],
   "source": [
    "from sklearn.linear_model import LinearRegression, Ridge\n",
    "from sklearn.metrics import r2_score\n",
    "from sklearn.preprocessing import StandardScaler\n",
    "\n",
    "# Assuming train_embedding and test_embedding are your feature matrices\n",
    "# and y_train_movie, y_test_movie are your target variables\n",
    "\n",
    "# Create a StandardScaler instance\n",
    "scaler = StandardScaler()\n",
    "\n",
    "# Fit and transform the training features\n",
    "train_embedding_scaled = scaler.fit_transform(train_embedding)\n",
    "\n",
    "# Transform the test features using the same scaler\n",
    "test_embedding_scaled = scaler.transform(test_embedding)\n",
    "\n",
    "\n",
    "# Create a Linear Regression model\n",
    "regr = LinearRegression()\n",
    "regr=Ridge(10)\n",
    "\n",
    "# Fit the model with scaled training features and target variable\n",
    "regr.fit(train_embedding_scaled, y_train_movie.T)\n",
    "\n",
    "# Make predictions on scaled test features\n",
    "predictions = regr.predict(test_embedding_scaled)\n",
    "\n",
    "# Calculate R-squared score\n",
    "r2 = r2_score(y_test_movie.T, predictions)\n",
    "\n",
    "print(\"R-squared score:\", r2)"
   ]
  },
  {
   "cell_type": "code",
   "execution_count": 174,
   "metadata": {},
   "outputs": [
    {
     "name": "stdout",
     "output_type": "stream",
     "text": [
      "0.815696927591456\n",
      "0.5055532883179235\n",
      "0.19429677035577042\n",
      "0.4869881339269624\n",
      "-0.144786564370462\n",
      "-0.2473602995852182\n",
      "-0.7452109407402805\n",
      "-0.5750805861828725\n",
      "-0.1907091626001307\n",
      "0.3277002663891423\n",
      "0.02831599935909701\n",
      "-0.8294212290246439\n",
      "-0.3506460798268125\n",
      "-0.12390815893854379\n",
      "-0.3140845031984183\n",
      "-0.5784275521346876\n",
      "-0.40191714932015765\n",
      "-0.2273759929954442\n",
      "-0.3119318524004364\n",
      "-0.19855972536615574\n",
      "-0.4926954951330418\n",
      "-0.28918844718804326\n",
      "-0.6709926787669507\n",
      "0.7264554105740684\n",
      "-0.1776101186030692\n",
      "-0.2867638801615482\n",
      "-0.5377181201626149\n",
      "0.0539121522165934\n",
      "-0.30513483591299506\n",
      "-0.7179264140632857\n",
      "-0.19658627884582125\n",
      "0.556712066070727\n",
      "0.42265906420661314\n",
      "-0.2912805923749724\n",
      "-0.2080577483899757\n",
      "-0.5831616404198261\n",
      "-0.39699879110821645\n",
      "-0.06395655907212827\n",
      "-0.3624336452176309\n",
      "0.032797023759252864\n",
      "-0.07924039853886189\n",
      "-0.23385730905130164\n",
      "0.35092023178066156\n",
      "-0.16573387356045144\n",
      "0.7572652879259125\n",
      "0.01728528002115992\n",
      "0.7463035946941232\n",
      "0.038797273573237145\n",
      "-0.49386793199014245\n",
      "0.3186584254369622\n",
      "-0.5606014997041544\n",
      "-0.3892414682118268\n",
      "0.9417549147651549\n",
      "-0.052214020715503295\n",
      "-0.3532477123873339\n",
      "-0.44342550523415203\n",
      "0.0765783228886816\n",
      "-0.4765672815785722\n",
      "0.7476159880670659\n",
      "0.34777168683990956\n",
      "0.846948212966981\n",
      "0.10513258556746563\n",
      "0.15490200257968134\n",
      "-0.49455832643393216\n",
      "0.25785167867598713\n",
      "0.7855796807651226\n",
      "-0.6352461990080773\n",
      "-0.4499200364199465\n",
      "0.2189617446117873\n",
      "0.0409078857316707\n",
      "0.4969530156426042\n",
      "-0.19164756054019527\n",
      "-0.4413793222587372\n",
      "-0.39533291728517783\n",
      "-0.5005380678090485\n",
      "-0.005133587514194682\n",
      "0.8431965188533095\n",
      "-0.4938897557621236\n",
      "-0.005801776548888249\n",
      "-0.8342852721684646\n",
      "-0.3906275774384236\n",
      "-0.048639182968803096\n",
      "0.9664542782126457\n",
      "-0.8237054227878018\n",
      "-0.522884696478553\n",
      "-0.2869371687297817\n",
      "0.4980708814846705\n",
      "-0.8575960957524007\n",
      "0.8940452373657829\n",
      "0.6512555695490776\n",
      "-0.8414113545258037\n",
      "-0.442080405107216\n",
      "-0.6323218160844724\n",
      "-0.33207664358503775\n",
      "-0.5922994159702655\n",
      "0.8908858890774313\n",
      "0.007528544234776446\n",
      "-0.03711544576701886\n",
      "0.589481057381084\n",
      "0.9687143239052695\n",
      "-0.513683879528438\n",
      "0.8771661924822001\n",
      "0.12411295068069428\n",
      "-0.5561955462863106\n",
      "-0.4531869144534497\n",
      "-0.2384608948312008\n",
      "-0.2498317006108084\n",
      "-0.7188059104891402\n",
      "-0.3273026150745195\n",
      "-0.048577044645062184\n",
      "-0.2779080955634694\n",
      "-0.35969538639632104\n",
      "-0.2764282916127445\n",
      "-0.3943423858424968\n",
      "-0.3970544181910398\n",
      "-0.45913128379489465\n",
      "-0.3031243484089077\n",
      "0.9577533045020852\n",
      "-0.29934313165516624\n",
      "-0.26683936924536145\n",
      "-0.5845808705855886\n",
      "0.28162872065542877\n",
      "0.8363371737100287\n",
      "-0.17151201941452787\n",
      "0.66544688710531\n",
      "0.9589845481555956\n",
      "-0.3811553031071846\n",
      "0.8856554691485422\n",
      "0.28940592939910637\n",
      "0.7623799959378822\n",
      "-0.8172636311831942\n",
      "-0.14596129905425026\n",
      "-0.26710288393614\n",
      "-0.36073000300408187\n",
      "-0.00640110613499667\n",
      "0.7904208954926251\n",
      "-0.21471450247955648\n",
      "0.8176120849474594\n",
      "-0.5432716742255603\n",
      "-0.20759730999412018\n",
      "0.8482300567849875\n",
      "-0.30019282720591756\n",
      "0.3848123328564469\n",
      "-0.2581536774486233\n",
      "0.8495726008675738\n",
      "0.9086964197909725\n",
      "0.35002890052470637\n",
      "-0.0036602353313166525\n",
      "-0.6631297607331696\n",
      "-0.6291939062420373\n",
      "-0.1679519634413149\n",
      "-0.26246353048645776\n",
      "-0.2553760359377715\n",
      "-0.07211897325670602\n",
      "-0.14586332439644978\n",
      "-0.05746552064057764\n",
      "-0.6402981397625689\n",
      "-0.48620927747648035\n",
      "-0.6352573839567623\n",
      "-0.24626940626230853\n",
      "-0.582877934708194\n",
      "-0.35804651996230175\n",
      "0.9353216919516869\n",
      "-0.019529747174940715\n",
      "-0.05637645229227739\n",
      "-0.22555387826935225\n",
      "0.8298727811416096\n",
      "0.9287105212810812\n",
      "0.8666019696869407\n",
      "0.2389920297274598\n",
      "-0.24878729606013872\n",
      "0.3658461976753099\n",
      "-0.3428352975598252\n",
      "0.6452571112708292\n"
     ]
    }
   ],
   "source": [
    "scores=[]\n",
    "for i in range(0,174):\n",
    "    scores.append(r2_score(y_test_movie.T[:,i], predictions[:,i]))\n",
    "    print(r2_score(y_test_movie.T[:,i], predictions[:,i]))"
   ]
  },
  {
   "cell_type": "code",
   "execution_count": 175,
   "metadata": {},
   "outputs": [
    {
     "data": {
      "text/plain": [
       "(array([ 9., 24., 27., 37., 22.,  6., 11.,  7.,  9., 22.]),\n",
       " array([-0.8575961 , -0.67496505, -0.49233401, -0.30970297, -0.12707193,\n",
       "         0.05555911,  0.23819016,  0.4208212 ,  0.60345224,  0.78608328,\n",
       "         0.96871432]),\n",
       " <BarContainer object of 10 artists>)"
      ]
     },
     "execution_count": 175,
     "metadata": {},
     "output_type": "execute_result"
    },
    {
     "data": {
      "image/png": "[encoded data removed]",
      "text/plain": [
       "<Figure size 640x480 with 1 Axes>"
      ]
     },
     "metadata": {},
     "output_type": "display_data"
    }
   ],
   "source": [
    "import matplotlib.pyplot as plt\n",
    "\n",
    "\n",
    "plt.hist(scores)"
   ]
  },
  {
   "cell_type": "code",
   "execution_count": 138,
   "metadata": {},
   "outputs": [
    {
     "data": {
      "text/plain": [
       "[<matplotlib.lines.Line2D at 0x7f7a444994c0>]"
      ]
     },
     "execution_count": 138,
     "metadata": {},
     "output_type": "execute_result"
    },
    {
     "data": {
      "image/png": "[encoded data removed]",
      "text/plain": [
       "<Figure size 640x480 with 1 Axes>"
      ]
     },
     "metadata": {},
     "output_type": "display_data"
    }
   ],
   "source": [
    "plt.plot(predictions[:,5])\n",
    "plt.plot(y_test_movie[:,5])"
   ]
  },
  {
   "cell_type": "code",
   "execution_count": 137,
   "metadata": {},
   "outputs": [
    {
     "data": {
      "text/plain": [
       "(180, 274)"
      ]
     },
     "execution_count": 137,
     "metadata": {},
     "output_type": "execute_result"
    }
   ],
   "source": [
    "predictions.shape"
   ]
  },
  {
   "cell_type": "code",
   "execution_count": 64,
   "metadata": {},
   "outputs": [
    {
     "data": {
      "text/plain": [
       "(174, 768)"
      ]
     },
     "execution_count": 64,
     "metadata": {},
     "output_type": "execute_result"
    }
   ],
   "source": [
    "regr.coef_.shape"
   ]
  }
 ],
 "metadata": {
  "kernelspec": {
   "display_name": "base",
   "language": "python",
   "name": "python3"
  },
  "language_info": {
   "codemirror_mode": {
    "name": "ipython",
    "version": 3
   },
   "file_extension": ".py",
   "mimetype": "text/x-python",
   "name": "python",
   "nbconvert_exporter": "python",
   "pygments_lexer": "ipython3",
   "version": "3.9.13"
  }
 },
 "nbformat": 4,
 "nbformat_minor": 2
}
