{
 "cells": [
  {
   "cell_type": "code",
   "execution_count": null,
   "metadata": {},
   "outputs": [],
   "source": [
    "from allensdk.core.brain_observatory_cache import BrainObservatoryCache\n",
    "from config import cache_path, save_path\n",
    "from pathlib import Path\n",
    "import numpy as np\n",
    "from sklearn.linear_model import LinearRegression, Ridge\n",
    "from sklearn.metrics import r2_score\n",
    "from sklearn.decomposition import PCA\n",
    "from sklearn.model_selection import train_test_split\n",
    "\n",
    "boc = BrainObservatoryCache(manifest_file=str(\n",
    "            Path(cache_path) / 'brain_observatory_manifest.json'))\n",
    "\n",
    "eid=501559087\n",
    "#eid=564425777\n",
    "eid=567734055\n",
    "\n",
    "data_dct={}\n",
    "\n",
    "data_set = boc.get_ophys_experiment_data(eid)\n",
    "\n",
    "data_dct['movie_stim_table'] = data_set.get_stimulus_table(\n",
    "                'natural_movie_one')\n",
    "\n",
    "data_dct['neural_responses'] = data_set.get_dff_traces()[1]\n",
    "\n",
    "embeddings=np.load(Path(save_path)/Path('natural_movie_one_dino.npy'))\n",
    "#embeddings=np.load(Path(save_path)/Path('movie_one.npy'))\n",
    "print(embeddings.shape)\n",
    "embeddings=np.load('/home/maria/CalciumImaging/movie_one_dino.npy')\n",
    "#embeddings=np.load(Path(save_path)/Path('natural_movie_one_clip.npy'))\n",
    "\n",
    "def make_regression_data(data_dct, embeddings):\n",
    "        np.random.seed = 7879\n",
    "        stimuli = data_dct['movie_stim_table'].loc[data_dct['movie_stim_table']['repeat'] == 9]\n",
    "        print(stimuli)\n",
    "\n",
    "        X_train, X_test, y_train_inds, y_test_inds = train_test_split(embeddings,stimuli['start'].values, test_size=0.7, random_state=42)\n",
    "        y_train=data_dct['neural_responses'][:,y_train_inds]\n",
    "        y_test=data_dct['neural_responses'][:,y_test_inds]\n",
    "\n",
    "        return y_train, y_test, X_train, X_test\n",
    "\n",
    "y_train_movie, y_test_movie, train_embedding,test_embedding = make_regression_data(data_dct, embeddings) \n",
    "print(y_train_movie.shape, y_test_movie.shape, train_embedding.shape, test_embedding.shape)"
   ]
  }
 ],
 "metadata": {
  "language_info": {
   "name": "python"
  }
 },
 "nbformat": 4,
 "nbformat_minor": 2
}
