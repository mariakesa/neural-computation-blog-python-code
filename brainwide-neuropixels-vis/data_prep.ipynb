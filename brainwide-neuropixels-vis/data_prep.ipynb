{
 "cells": [
  {
   "cell_type": "code",
   "execution_count": 1,
   "metadata": {},
   "outputs": [
    {
     "name": "stdout",
     "output_type": "stream",
     "text": [
      "['ae8787b1-4229-4d56-b0c2-566b61a25b77', '0f77ca5d-73c2-45bd-aa4c-4c5ed275dbde', '6c6b0d06-6039-4525-a74b-58cfaa1d3a60', '1d4a7bd6-296a-48b9-b20e-bd0ac80750a5', 'e0928e11-2b86-4387-a203-80c77fab5d52', '196a2adf-ff83-49b2-823a-33f990049c2e', '78b4fff5-c5ec-44d9-b5f9-d59493063f00', '1ca83b26-30fc-4350-a616-c38b7d00d240', '27ef44c0-acb2-4220-b776-477d0d5abd35', 'a2701b93-d8e1-47e9-a819-f1063046f3e7', '446f4724-1690-49f9-819a-2bd8e2ea88ce', 'c8d46ee6-eb68-4535-8756-7c9aa32f10e4', '8928f98a-b411-497e-aa4b-aa752434686d', '3f859b5c-e73a-4044-b49e-34bb81e96715', 'f819d499-8bf7-4da0-a431-15377a8319d5', '752456f3-9f47-4fbf-bd44-9d131c0f41aa', '1b9e349e-93f2-41cc-a4b5-b212d7ddc8df', '6b0b5d24-bcda-4053-a59c-beaa1fe03b8f', 'd901aff5-2250-467a-b4a1-0cb9729df9e2', '5b49aca6-a6f4-4075-931a-617ad64c219c', 'eacc49a9-f3a1-49f1-b87f-0972f90ee837', '3e6a97d3-3991-49e2-b346-6948cb4580fb', '1425bd6f-c625-4f6a-b237-dc5bcfc42c87', '63c70ae8-4dfb-418b-b21b-f0b1e5fba6c9', '9b528ad0-4599-4a55-9148-96cc1d93fb24', 'a4747ac8-6a75-444f-b99b-696fff0243fd', 'f4ffb731-8349-4fe4-806e-0232a84e52dd', '0c828385-6dd6-4842-a702-c5075f5f5e81', 'e6043c7d-8f6e-4b66-8309-2ec0abac0f79', 'ffef0311-8ffa-49e3-a857-b3adf6d86e12', 'e45481fa-be22-4365-972c-e7404ed8ab5a', 'e2b845a1-e313-4a08-bc61-a5f662ed295e', 'f99ac31f-171b-4208-a55d-5644c0ad51c3', '32d27583-56aa-4510-bc03-669036edad20', '90e524a2-aa63-47ce-b5b8-1b1941a1223a', '09156021-9a1d-4e1d-ae59-48cbde3c5d42', '9a6e127b-bb07-4be2-92e2-53dd858c2762', '64977c74-9c04-437a-9ea1-50386c4996db', '6f36868f-5cc1-450c-82fa-6b9829ce0cfe', '5455a21c-1be7-4cae-ae8e-8853a8d5f55e', '111c1762-7908-47e0-9f40-2f2ee55b6505', 'bda2faf5-9563-4940-a80f-ce444259e47b', '8d316998-28c3-4265-b029-e2ca82375b2f', 'fa8ad50d-76f2-45fa-a52f-08fe3d942345', '2bdf206a-820f-402f-920a-9e86cd5388a4', '1b715600-0cbc-442c-bd00-5b0ac2865de1', '3537d970-f515-4786-853f-23de525e110f', '19b44992-d527-4a12-8bda-aa11379cb08c', 'ebc9392c-1ecb-4b4b-a545-4e3d70d23611', '8a3a0197-b40a-449f-be55-c00b23253bbf', '58c4bf97-ec3b-45b4-9db4-d5d9515d5b00', '5dcee0eb-b34d-4652-acc3-d10afc6eae68', '19e66dc9-bf9f-430b-9d6a-acfa85de6fb7', '30af8629-7b96-45b7-8778-374720ddbc5e', 'cea755db-4eee-4138-bdd6-fc23a572f5a1', '1b61b7f2-a599-4e40-abd6-3e758d2c9e25', 'c7bf2d49-4937-4597-b307-9f39cb1c7b16', 'bb099402-fb31-4cfd-824e-1c97530a0875', 'f27e6cd6-cdd3-4524-b8e3-8146046e2a7d', '68775ca0-b056-48d5-b6ae-a4c2a76ae48f', '8b1f4024-3d96-4ee7-95f9-8a1dfd4ce4ef', '10fac7a1-919d-4ca7-83c4-4675bd8d9416', '03d9a098-07bf-4765-88b7-85f8d8f620cc', 'd57df551-6dcb-4242-9c72-b806cff5613a', '5bcafa14-71cb-42fa-8265-ce5cda1b89e0', '7502ae93-7437-4bcd-9e14-d73b51193656', '824cf03d-4012-4ab1-b499-c83a92c5589e', '537677fe-1e24-4755-948c-fa4a4e8ecce5', '51e53aff-1d5d-4182-a684-aba783d50ae5', '1f095590-6669-46c9-986b-ccaf0620c5e9', '3d59aa1a-b4ba-47fe-b9cf-741b5fdb0c7b', '93ad879a-aa42-4150-83e1-38773c9785e4', 'a405053a-eb13-4aa4-850c-5a337e5dc7fd', 'c51f34d8-42f6-4c9c-bb5b-669fd9c42cd9', 'fc43390d-457e-463a-9fd4-b94a0a8b48f5', '64e3fb86-928c-4079-865c-b364205b502e', '288bfbf3-3700-4abe-b6e4-130b5c541e61', '6434f2f5-6bce-42b8-8563-d93d493613a2', '0802ced5-33a3-405e-8336-b65ebc5cb07c', '72982282-e493-45ee-87ce-aa45cb3a3ec1', '15948667-747b-4702-9d53-354ac70e9119', 'd32876dd-8303-4720-8e7e-20678dc2fd71', 'f140a2ec-fd49-4814-994a-fe3476f14e66', '58b1e920-cfc8-467e-b28b-7654a55d0977', '86b6ba67-c1db-4333-add0-f8105ea6e363', '69a0e953-a643-4f0e-bb26-dc65af3ea7d7', '821f1883-27f3-411d-afd3-fb8241bbc39a', 'af55d16f-0e31-4073-bdb5-26da54914aa2', 'e9fc0a2d-c69d-44d1-9fa3-314782387cae', '0cc486c3-8c7b-494d-aa04-b70e2690bcba', 'd2832a38-27f6-452d-91d6-af72d794136c', '7cec9792-b8f9-4878-be7e-f08103dc0323', '88224abb-5746-431f-9c17-17d7ef806e6a', 'a4a74102-2af5-45dc-9e41-ef7f5aed88be', '72cb5550-43b4-4ef0-add5-e4adfdfb5e02', '91a3353a-2da1-420d-8c7c-fad2fedfdd18', 'ee212778-3903-4f5b-ac4b-a72f22debf03', 'ac7d3064-7f09-48a3-88d2-e86a4eb86461', '7082d8ff-255a-47d7-a839-bf093483ec30', 'fa1f26a1-eb49-4b24-917e-19f02a18ac61', '4503697e-af44-47d9-898d-4924be990240', '35ed605c-1a1a-47b1-86ff-2b56144f55af', '0a018f12-ee06-4b11-97aa-bbbff5448e9f', '6ed57216-498d-48a6-b48b-a243a34710ea', '872ce8ff-9fb3-485c-be00-bc5479e0095b', 'b22f694e-4a34-4142-ab9d-2556c3487086', '30c4e2ab-dffc-499d-aae4-e51d6b3218c2', '6f6d2c8e-28be-49f4-ae4d-06be2d3148c1', 'd0c91c3c-8cbb-4929-8657-31f18bffc294', 'f359281f-6941-4bfd-90d4-940be22ed3c3', '71855308-7e54-41d7-a7a4-b042e78e3b4f', '8ca740c5-e7fe-430a-aa10-e74e9c3cbbe8', '5157810e-0fff-4bcf-b19d-32d4e39c7dfc', '0b7ee1b6-42db-46cd-a465-08f531366187', '113c5b6c-940e-4b21-b462-789b4c2be0e5', '71e03be6-b497-4991-a121-9416dcc1a6e7', 'ab8a0899-a59f-42e4-8807-95b14056104b', 'f5591ac5-311d-4fa8-9bad-029d7be9c491', '1a507308-c63a-4e02-8f32-3239a07dc578', '21d21fc3-4201-4edc-802a-c67b61952548', 'dc21e80d-97d7-44ca-a729-a8e3f9b14305', '09394481-8dd2-4d5c-9327-f2753ede92d7', 'aec5d3cc-4bb2-4349-80a9-0395b76f04e2', '8c2f7f4d-7346-42a4-a715-4d37a5208535', 'a9138924-4395-4981-83d1-530f6ff7c8fc', 'ff96bfe1-d925-4553-94b5-bf8297adf259', '83d85891-bd75-4557-91b4-1cbb5f8bfc9d', 'f88d4dd4-ccd7-400e-9035-fa00be3bcfa8', '7af49c00-63dd-4fed-b2e0-1b3bd945b20b', '3f6e25ae-c007-4dc3-aa77-450fd5705046', '2c44a360-5a56-4971-8009-f469fb59de98', '9b5a1754-ac99-4d53-97d3-35c2f6638507', '73918ae1-e4fd-4c18-b132-00cb555b1ad2', 'f304211a-81b1-446f-a435-25e589fe3a5a', '4aa1d525-5c7d-4c50-a147-ec53a9014812', '952870e5-f2a7-4518-9e6d-71585460f6fe', 'd0ea3148-948d-4817-94f8-dcaf2342bbbe', 'c728f6fd-58e2-448d-aefb-a72c637b604c', '25d1920e-a2af-4b6c-9f2e-fc6c65576544', '9545aa05-3945-4054-a5c3-a259f7209d61', 'd3a2b25e-46d3-4f0b-ade6-4e32255f4c35', '0cad7ea8-8e6c-4ad1-a5c5-53fbb2df1a63', '781b35fd-e1f0-4d14-b2bb-95b7263082bb', '5285c561-80da-4563-8694-739da92e5dd0', 'f1db6257-85ef-4385-b415-2d078ec75df2', 'd9f0c293-df4c-410a-846d-842e47c6b502', '3638d102-e8b6-4230-8742-e548cd87a949', 'a6fe44a8-07ab-49b8-81f9-e18575aa85cc', 'e5c75b62-6871-4135-b3d0-f6464c2d90c0', '571d3ffe-54a5-473d-a265-5dc373eb7efc', '9468fa93-21ae-4984-955c-e8402e280c83', 'aa3432cd-62bd-40bc-bc1c-a12d53bcbdcf', 'dfbe628d-365b-461c-a07f-8b9911ba83aa', '9e9c6fc0-4769-4d83-9ea4-b59a1230510e', '69c9a415-f7fa-4208-887b-1417c1479b48', '0ac8d013-b91e-4732-bc7b-a1164ff3e445', 'c4432264-e1ae-446f-8a07-6280abade813', 'd7e60cc3-6020-429e-a654-636c6cc677ea', '360eac0c-7d2d-4cc1-9dcf-79fc7afc56e7', '81a1dca0-cc90-47c5-afe3-c277319c47c8', '875c1e5c-f7ec-45ac-ab82-ecfe7276a707', 'dac3a4c1-b666-4de0-87e8-8c514483cacf', '07dc4b76-5b93-4a03-82a0-b3d9cc73f412', '493170a6-fd94-4ee4-884f-cc018c17eeb9', '8c552ddc-813e-4035-81cc-3971b57efe65', '032452e9-1886-449d-9c13-0f192572e19f', '75b6b132-d998-4fba-8482-961418ac957d', '239cdbb1-68e2-4eb0-91d8-ae5ae4001c7a', '63f3dbc1-1a5f-44e5-98dd-ce25cd2b7871', '5d6aa933-4b00-4e99-ae2d-5003657592e9', '09b2c4d1-058d-4c84-9fd4-97530f85baf6', '56bc129c-6265-407a-a208-cc16d20a6c01', 'f84045b0-ce09-4ace-9d11-5ea491620707', '7cb81727-2097-4b52-b480-c89867b5b34c', '5b609f9b-75cb-43d3-9c39-b5b4b7a0db67', '22e04698-b974-4805-b241-3b547dbf37bf', '5569f363-0934-464e-9a5b-77c8e67791a1', '746d1902-fa59-4cab-b0aa-013be36060d5', '1928bf72-2002-46a6-8930-728420402e01', '77e6dc6a-66ed-433c-b1a2-778c914f523c', 'cde63527-7f5a-4cc3-8ac2-215d82e7da26', '7416f387-b302-4ca3-8daf-03b585a1b7ec', '7691eeb3-715b-4571-8fda-6bb57aab8253', 'fc14c0d6-51cf-48ba-b326-56ed5a9420c3', '45ef6691-7b80-4a43-bd1a-85fc00851ae8', 'e8b4fda3-7fe4-4706-8ec2-91036cfee6bd', '54238fd6-d2d0-4408-b1a9-d19d24fd29ce', '6bb5da8f-6858-4fdd-96d9-c34b3b841593', '671c7ea7-6726-4fbe-adeb-f89c2c8e489b', 'eebacd5a-7dcd-4ba6-9dff-ec2a4d2f19e0', '6c6983ef-7383-4989-9183-32b1a300d17a', '91796ceb-e314-4859-9a1f-092f85cc846a', '2e22c1fc-eec6-4856-85a0-7dba8668f646', '56b57c38-2699-4091-90a8-aba35103155e', 'e26c6001-defe-42a9-9ded-368e3f03ac61', '948fd27b-507b-41b3-bdf8-f9f5f0af8e0b', 'e012d3e3-fdbc-4661-9ffa-5fa284e4e706', '26aa51ff-968c-42e4-85c8-8ff47d19254d', '9fe512b8-92a8-4642-83b6-01158ab66c3c', 'a52f5a1b-7f45-4f2c-89a9-fb199d2a0d63', '9eec761e-9762-4897-b308-a3a08c311e69', 'f7335a49-4a98-46d2-a8ce-d041d2eac1d6', '4a45c8ba-db6f-4f11-9403-56e06a33dfa4', '7b26ce84-07f9-43d1-957f-bc72aeb730a3', '4ecb5d24-f5cc-402c-be28-9d0f7cb14b3a', '754b74d5-7a06-4004-ae0c-72a10b6ed2e6', 'c6db3304-c906-400c-aa0f-45dd3945b2ea', '88d24c31-52e4-49cc-9f32-6adbeb9eba87', 'c7bd79c9-c47e-4ea5-aea3-74dda991b48e', '6fb1e12c-883b-46d1-a745-473cde3232c8', '695a6073-eae0-49e0-bb0f-e9e57a9275b9', 'fece187f-b47f-4870-a1d6-619afe942a7d', '6f09ba7e-e3ce-44b0-932b-c003fb44fb89', '993c7024-0abc-4028-ad30-d397ad55b084', 'f3ce3197-d534-4618-bf81-b687555d1883', '251ece37-7798-477c-8a06-2845d4aa270c', '5522ac4b-0e41-4c53-836a-aaa17e82b9eb', 'aa20388b-9ea3-4506-92f1-3c2be84b85db', 'fcd49e34-f07b-441c-b2ac-cb8c462ec5ac', 'c3d9b6fb-7fa9-4413-a364-92a54df0fc5d', '1ec23a70-b94b-4e9c-a0df-8c2151da3761', 'd23a44ef-1402-4ed7-97f5-47e9a7a504d9', '5339812f-8b91-40ba-9d8f-a559563cc46b', 'e349a2e7-50a3-47ca-bc45-20d1899854ec', '768a371d-7e88-47f8-bf21-4a6a6570dd6e', '064a7252-8e10-4ad6-b3fd-7a88a2db5463', '15763234-d21e-491f-a01b-1238eb96d389', 'a7763417-e0d6-4f2a-aa55-e382fd9b5fb8', '4ef13091-1bc8-4f32-9619-107bdf48540c', 'cae5cd75-55e5-4277-8db3-cf4d6c5ff918', 'ebe2efe3-e8a1-451a-8947-76ef42427cc9', 'b69b86be-af7d-4ecf-8cbf-0cd356afa1bd', 'edd22318-216c-44ff-bc24-49ce8be78374', '71e55bfe-5a3a-4cba-bdc7-f085140d798e', '626126d5-eecf-4e9b-900e-ec29a17ece07', '49e0ab27-827a-4c91-bcaa-97eea27a1b8d', '81a78eac-9d36-4f90-a73a-7eb3ad7f770b', '5adab0b7-dfd0-467d-b09d-43cb7ca5d59c', 'e56541a5-a6d5-4750-b1fe-f6b5257bfe7c', '5d01d14e-aced-4465-8f8e-9a1c674f62ec', '7f6b86f9-879a-4ea2-8531-294a221af5d0', '8c33abef-3d3e-4d42-9f27-445e9def08f9', 'c557324b-b95d-414c-888f-6ee1329a2329', '61e11a11-ab65-48fb-ae08-3cb80662e5d6', 'c7248e09-8c0d-40f2-9eb4-700a8973d8c8', '280ee768-f7b8-4c6c-9ea0-48ca75d6b6f3', 'ff48aa1d-ef30-4903-ac34-8c41b738c1b9', '03063955-2523-47bd-ae57-f7489dd40f15', '1e45d992-c356-40e1-9be1-a506d944896f', '4d8c7767-981c-4347-8e5e-5d5fffe38534', '6274dda8-3a59-4aa1-95f8-a8a549c46a26', '41872d7f-75cb-4445-bb1a-132b354c44f0', 'fe1fd79f-b051-411f-a0a9-2530a02cc78d', '934dd7a4-fbdc-459c-8830-04fe9033bc28', '549caacc-3bd7-40f1-913d-e94141816547', '20c112a1-8a42-44e0-a4cd-e5b932f7bda9', '65f5c9b4-4440-48b9-b914-c593a5184a18', 'dcceebe5-4589-44df-a1c1-9fa33e779727', 'f8041c1e-5ef4-4ae6-afec-ed82d7a74dc1', 'd832d9f7-c96a-4f63-8921-516ba4a7b61f', '4ddb8a95-788b-48d0-8a0a-66c7c796da96', 'b39752db-abdb-47ab-ae78-e8608bbf50ed', 'ee8b36de-779f-4dea-901f-e0141c95722b', 'f9860a11-24d3-452e-ab95-39e199f20a93', 'bd456d8f-d36e-434a-8051-ff3997253802', 'b658bc7d-07cd-4203-8a25-7b16b549851b', '862ade13-53cd-4221-a3fa-dda8643641f2', '7622da34-51b6-4661-98ae-a57d40806008', '4720c98a-a305-4fba-affb-bbfa00a724a4', '66d98e6e-bcd9-4e78-8fbb-636f7e808b29', 'f25642c6-27a5-4a97-9ea0-06652db79fbd', '28741f91-c837-4147-939e-918d38d849f2', 'fb70ebf7-8175-42b0-9b7a-7c6e8612226e', 'f312aaec-3b6f-44b3-86b4-3a0c119c0438', '8207abc6-6b23-4762-92b4-82e05bed5143', 'b81e3e11-9a60-4114-b894-09f85074d9c3', '90e74228-fd1a-482f-bd56-05dbad132861', '6a601cc5-7b79-4c75-b0e8-552246532f82', 'a82800ce-f4e3-4464-9b80-4c3d6fade333', 'a66f1593-dafd-4982-9b66-f9554b6c86b5', '41431f53-69fd-4e3b-80ce-ea62e03bf9c7', '1eac875c-feaa-4a30-b148-059b954b11d8', '8db36de1-8f17-4446-b527-b5d91909b45a', 'da188f2c-553c-4e04-879b-c9ea2d1b9a93', '03cf52f6-fba6-4743-a42e-dd1ac3072343', '5b44c40f-80f4-44fb-abfb-c7f19e27a6ca', '7be8fec4-406b-4e74-8548-d2885dcc3d5e', '6364ff7f-6471-415a-ab9e-632a12052690', 'e535fb62-e245-4a48-b119-88ce62a6fe67', 'f10efe41-0dc0-44d0-8f26-5ff68dca23e9', '1191f865-b10a-45c8-9c48-24a980fd9402', '6668c4a0-70a4-4012-a7da-709660971d7a', '2e6e179c-fccc-4e8f-9448-ce5b6858a183', '37e96d0b-5b4b-4c6e-9b29-7edbdc94bbd0', '9a629642-3a9c-42ed-b70a-532db0e86199', 'e5c772cd-9c92-47ab-9525-d618b66a9b5d', 'd16a9a8d-5f42-4b49-ba58-1746f807fcc1', '2f63c555-eb74-4d8d-ada5-5c3ecf3b46be', 'a19c7a3a-7261-42ce-95d5-1f4ca46007ed', 'dda5fc59-f09a-4256-9fb5-66c67667a466', '413a6825-2144-4a50-b3fc-cf38ddd6fd1a', '57b5ae8f-d446-4161-b439-b191c5e3e77b', '30e5937e-e86a-47e6-93ae-d2ae3877ff8e', 'ee13c19e-2790-4418-97ca-48f02e8013bb', '158d5d35-a2ab-4a76-87b0-51048c5d5283', '0f25376f-2b78-4ddc-8c39-b6cdbe7bf5b9', 'd2f5a130-b981-4546-8858-c94ae1da75ff', '3c851386-e92d-4533-8d55-89a46f0e7384', '3dd347df-f14e-40d5-9ff2-9c49f84d2157', '7939711b-8b4d-4251-b698-b97c1eaa846e', 'db4df448-e449-4a6f-a0e7-288711e7a75a', '46794e05-3f6a-4d35-afb3-9165091a5a74', 'fa704052-147e-46f6-b190-a65b837e605e', 'dfd8e7df-dc51-4589-b6ca-7baccfeb94b4', '034e726f-b35f-41e0-8d6c-a22cc32391fb', '56956777-dca5-468c-87cb-78150432cc57', '4b00df29-3769-43be-bb40-128b1cba6d35', '83e77b4b-dfa0-4af9-968b-7ea0c7a0c7e4', '5386aba9-9b97-4557-abcd-abc2da66b863', '6713a4a7-faed-4df2-acab-ee4e63326f8d', '0cbeae00-e229-4b7d-bdcc-1b0569d7e0c3', '3663d82b-f197-4e8b-b299-7b803a155b84', '38d95489-2e82-412a-8c1a-c5377b5f1555', '57fd2325-67f4-4d45-9907-29e77d3043d7', 'a71175be-d1fd-47a3-aa93-b830ea3634a1', 'cf43dbb1-6992-40ec-a5f9-e8e838d0f643', '572a95d1-39ca-42e1-8424-5c9ffcb2df87', '741979ce-3f10-443a-8526-2275620c8473', 'ecb5520d-1358-434c-95ec-93687ecd1396', '810b1e07-009e-4ebe-930a-915e4cd8ece4', '36280321-555b-446d-9b7d-c2e17991e090', 'eef82e27-c20e-48da-b4b7-c443031649e3', 'f8d5c8b0-b931-4151-b86c-c471e2e80e5d', '7bee9f09-a238-42cf-b499-f51f765c6ded', 'ee40aece-cffd-4edb-a4b6-155f158c666a', '0deb75fb-9088-42d9-b744-012fb8fc4afb', 'e49d8ee7-24b9-416a-9d04-9be33b655f40', '02fbb6da-3034-47d6-a61b-7d06c796a830', '12dc8b34-b18e-4cdd-90a9-da134a9be79c', '465c44bd-2e67-4112-977b-36e1ac7e3f8c', '931a70ae-90ee-448e-bedb-9d41f3eda647', 'ff4187b5-4176-4e39-8894-53a24b7cf36b', 'b03fbc44-3d8e-4a6c-8a50-5ea3498568e0', '193fe7a8-4eb5-4f3e-815a-0c45864ddd77', 'bb6a5aae-2431-401d-8f6a-9fdd6de655a9', '510b1a50-825d-44ce-86f6-9678f5396e02', '032ffcdf-7692-40b3-b9ff-8def1fc18b2e', '90d1e82c-c96f-496c-ad4e-ee3f02067f25', '259927fd-7563-4b03-bc5d-17b4d0fa7a55', 'a8a8af78-16de-4841-ab07-fde4b5281a03', '2d5f6d81-38c4-4bdc-ac3c-302ea4d5f46e', 'cb2ad999-a6cb-42ff-bf71-1774c57e5308', 'd33baf74-263c-4b37-a0d0-b79dcb80a764', '4fa70097-8101-4f10-b585-db39429c5ed0', 'b52182e7-39f6-4914-9717-136db589706e', '89f0d6ff-69f4-45bc-b89e-72868abb042a', '3e7ae7c0-fe8b-487c-9354-036236fa1010', 'e9b57a5a-b06d-476d-ad20-7ec42a16f5f5', 'd839491f-55d8-4cbe-a298-7839208ba12b', 'c99d53e6-c317-4c53-99ba-070b26673ac4', '4b7fbad4-f6de-43b4-9b15-c7c7ef44db4b', '53738f95-bd08-4d9d-9133-483fdb19e8da', '21e16736-fd59-44c7-b938-9b1333d25da8', '614e1937-4b24-4ad3-9055-c8253d089919', 'aad23144-0e52-4eac-80c5-c4ee2decb198', '15f742e1-1043-45c9-9504-f1e8a53c1744', 'dd87e278-999d-478b-8cbd-b5bf92b84763', 'a92c4b1d-46bd-457e-a1f4-414265f0e2d4', '16c3667b-e0ea-43fb-9ad4-8dcd1e6c40e1', 'cc45c568-c3b9-4f74-836e-c87762e898c8', 'b9c205c3-feac-485b-a89d-afc96d9cb280', 'e5fae088-ed96-4d9b-82f9-dfd13c259d52', 'a4000c2f-fa75-4b3e-8f06-a7cf599b87ad', '6cf2a88a-515b-4f7f-89a2-7d53eab9b5f4', 'e1931de1-cf7b-49af-af33-2ade15e8abe7', 'ebe090af-5922-4fcd-8fc6-17b8ba7bad6d', '16693458-0801-4d35-a3f1-9115c7e5acfd', 'dd4da095-4a99-4bf3-9727-f735077dba66', '49368f16-de69-4647-9a7a-761e94517821', '5139ce2c-7d52-44bf-8129-692d61dd6403']\n"
     ]
    },
    {
     "name": "stderr",
     "output_type": "stream",
     "text": [
      "local md5 mismatch on dataset: cortexlab/Subjects/KS074/2021-11-22/001/alf/probe00/pykilosort/channels.mlapdv.npy\n",
      "/home/maria/Downloads/ONE/openalyx.internationalbrainlab.org/cortexlab/Subjects/KS074/2021-11-22/001/alf/probe00/pykilosort/channels.mlapdv.npy: 100%|██████████| 4.74k/4.74k [00:00<00:00, 11.6kB/s]\n"
     ]
    }
   ],
   "source": [
    "from one.api import ONE\n",
    "import numpy as np\n",
    "\n",
    "ONE.setup(base_url='https://openalyx.internationalbrainlab.org', silent=True)\n",
    "one = ONE(password='international')\n",
    "\n",
    "# Search for all experiments with channels.mlapdv dataset\n",
    "eids = one.search(data='channels.mlapdv')\n",
    "print(eids)\n",
    "# Concatenate all the mlapdv values from the probe00 collections\n",
    "mlapdv_concat = []\n",
    "probe00_eids = []\n",
    "for eid in eids:\n",
    "    try:\n",
    "        mlapdv = one.load_dataset(eid, 'channels.mlapdv.npy', collection='alf/probe00/pykilosort')\n",
    "        mlapdv_mean = np.mean(mlapdv, axis=0) # compute the mean of the mlpadv values\n",
    "        mlapdv_concat.append(mlapdv_mean)\n",
    "        probe00_eids.append((eid, 'probe00'))\n",
    "    except:\n",
    "        pass\n",
    "\n",
    "# Concatenate all the mlapdv values from the probe01 collections\n",
    "probe01_eids = []\n",
    "for eid in eids:\n",
    "    try:\n",
    "        mlapdv = one.load_dataset(eid, 'channels.mlapdv.npy', collection='alf/probe01/pykilosort')\n",
    "        mlapdv_mean = np.mean(mlapdv, axis=0) # compute the mean of the mlpadv values\n",
    "        mlapdv_concat.append(mlapdv_mean)\n",
    "        probe01_eids.append((eid, 'probe01'))\n",
    "    except:\n",
    "        pass\n",
    "\n",
    "# Concatenate all the mlapdv values together\n",
    "mlapdv_concat = np.stack(mlapdv_concat) # stack the mlpadv values into a single array\n",
    "eids = probe00_eids + probe01_eids # combine the eid and probe information into a single list"
   ]
  },
  {
   "cell_type": "code",
   "execution_count": null,
   "metadata": {},
   "outputs": [],
   "source": [
    "np.save('data/mlapdv_concat.npy',mlapdv_concat)\n",
    "np.save('data/mlapdv_eids.npy', eids)"
   ]
  },
  {
   "cell_type": "code",
   "execution_count": null,
   "metadata": {},
   "outputs": [],
   "source": [
    "mlapdv_concat.shape"
   ]
  },
  {
   "cell_type": "code",
   "execution_count": null,
   "metadata": {},
   "outputs": [],
   "source": [
    "from sklearn.manifold import TSNE\n",
    "import matplotlib.pyplot as plt\n",
    "X_embedded = TSNE(n_components=2, learning_rate='auto', init='random', perplexity=20).fit_transform(mlapdv_concat)\n",
    "plt.scatter(X_embedded[:,0],X_embedded[:,1])"
   ]
  },
  {
   "cell_type": "code",
   "execution_count": null,
   "metadata": {},
   "outputs": [],
   "source": [
    "np.save('/data/probe_location_embeddings.npy',X_embedded)"
   ]
  },
  {
   "cell_type": "code",
   "execution_count": null,
   "metadata": {},
   "outputs": [],
   "source": [
    "import matplotlib.pyplot as plt\n",
    "from ibllib.atlas import atlas as at\n",
    "def generate_mlapdv_plots(eids):\n",
    "    atlas=at.AllenAtlas()\n",
    "    for i, eid in enumerate(eids):\n",
    "        # Load mlapdv.npy for probe00 if it exists\n",
    "        if eid[1]=='probe00':\n",
    "            mlapdv = one.load_dataset(eid[0], 'channels.mlapdv.npy', collection=f'alf/probe00/pykilosort')\n",
    "\n",
    "        # Load mlapdv.npy for probe01 if it exists\n",
    "        if eid[1]=='probe01':\n",
    "            mlapdv = one.load_dataset(eid[0], 'channels.mlapdv.npy', collection=f'alf/probe01/pykilosort')\n",
    "\n",
    "\n",
    "        # Create the xyz array\n",
    "        xyz = np.c_[mlapdv[:, 0].astype(np.float64) / 1e6, mlapdv[:, 1].astype(np.float64) / 1e6, mlapdv[:, 2].astype(np.float64) / 1e6]\n",
    "\n",
    "        fit=at.Trajectory.fit(xyz)\n",
    "        proj=fit.project(xyz)\n",
    "\n",
    "        # Create a figure with subplots\n",
    "        fig, axs = plt.subplots(1, 2, figsize=(12, 6),gridspec_kw={'wspace': 0.5})\n",
    "\n",
    "        # Render the first image\n",
    "        ax0 = atlas.plot_tilted_slice(xyz, 0, ax=axs[0])\n",
    "        ax0[0].scatter(proj[:, 1]*1e6, proj[:, 2]*1e6, c='pink', s=5)\n",
    "\n",
    "        # Render the second image\n",
    "        ax1 = atlas.plot_tilted_slice(xyz, 1, ax=axs[1])\n",
    "        ax1[0].scatter(proj[:, 0]*1e6, proj[:, 2]*1e6, c='pink', s=5)\n",
    "\n",
    "        # Save the plot to a file with a unique name\n",
    "        filename = f'static/mlapdv_plot_{i}.png'\n",
    "        fig.savefig(filename, bbox_inches='tight')\n",
    "\n",
    "        # Return the path to the saved file\n",
    "        yield eid, filename"
   ]
  }
 ],
 "metadata": {
  "kernelspec": {
   "display_name": "base",
   "language": "python",
   "name": "python3"
  },
  "language_info": {
   "codemirror_mode": {
    "name": "ipython",
    "version": 3
   },
   "file_extension": ".py",
   "mimetype": "text/x-python",
   "name": "python",
   "nbconvert_exporter": "python",
   "pygments_lexer": "ipython3",
   "version": "3.9.13"
  },
  "orig_nbformat": 4
 },
 "nbformat": 4,
 "nbformat_minor": 2
}
