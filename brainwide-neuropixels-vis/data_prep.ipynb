{
 "cells": [
  {
   "cell_type": "code",
   "execution_count": null,
   "metadata": {},
   "outputs": [],
   "source": [
    "from one.api import ONE\n",
    "import numpy as np\n",
    "\n",
    "ONE.setup(base_url='https://openalyx.internationalbrainlab.org', silent=True)\n",
    "one = ONE(password='international')\n",
    "\n",
    "# Search for all experiments with channels.mlapdv dataset\n",
    "eids = one.search(dataset='channels.mlapdv')\n",
    "print(eids)\n",
    "# Concatenate all the mlapdv values from the probe00 collections\n",
    "mlapdv_concat = []\n",
    "probe00_eids = []\n",
    "for eid in eids:\n",
    "    try:\n",
    "        mlapdv = one.load_dataset(eid, 'channels.mlapdv.npy', collection='alf/probe00/pykilosort')\n",
    "        mlapdv_mean = np.mean(mlapdv, axis=0) # compute the mean of the mlpadv values\n",
    "        mlapdv_concat.append(mlapdv_mean)\n",
    "        probe00_eids.append((eid, 'probe00'))\n",
    "    except:\n",
    "        pass\n",
    "\n",
    "# Concatenate all the mlapdv values from the probe01 collections\n",
    "probe01_eids = []\n",
    "for eid in eids:\n",
    "    try:\n",
    "        mlapdv = one.load_dataset(eid, 'channels.mlapdv.npy', collection='alf/probe01/pykilosort')\n",
    "        mlapdv_mean = np.mean(mlapdv, axis=0) # compute the mean of the mlpadv values\n",
    "        mlapdv_concat.append(mlapdv_mean)\n",
    "        probe01_eids.append((eid, 'probe01'))\n",
    "    except:\n",
    "        pass\n",
    "\n",
    "# Concatenate all the mlapdv values together\n",
    "mlapdv_concat = np.stack(mlapdv_concat) # stack the mlpadv values into a single array\n",
    "eids = probe00_eids + probe01_eids # combine the eid and probe information into a single list"
   ]
  },
  {
   "cell_type": "code",
   "execution_count": null,
   "metadata": {},
   "outputs": [],
   "source": [
    "np.save('data/mlapdv_concat.npy',mlapdv_concat)\n",
    "np.save('data/mlapdv_eids.npy', eids)"
   ]
  },
  {
   "cell_type": "code",
   "execution_count": null,
   "metadata": {},
   "outputs": [],
   "source": [
    "mlapdv_concat.shape"
   ]
  },
  {
   "cell_type": "code",
   "execution_count": null,
   "metadata": {},
   "outputs": [],
   "source": [
    "from sklearn.manifold import TSNE\n",
    "import matplotlib.pyplot as plt\n",
    "X_embedded = TSNE(n_components=2, learning_rate='auto', init='random', perplexity=20).fit_transform(mlapdv_concat)\n",
    "plt.scatter(X_embedded[:,0],X_embedded[:,1])"
   ]
  },
  {
   "cell_type": "code",
   "execution_count": null,
   "metadata": {},
   "outputs": [],
   "source": [
    "np.save('/data/probe_location_embeddings.npy',X_embedded)"
   ]
  },
  {
   "cell_type": "code",
   "execution_count": null,
   "metadata": {},
   "outputs": [],
   "source": [
    "import matplotlib.pyplot as plt\n",
    "from ibllib.atlas import atlas as at\n",
    "def generate_mlapdv_plots(eids):\n",
    "    atlas=at.AllenAtlas()\n",
    "    for i, eid in enumerate(eids):\n",
    "        # Load mlapdv.npy for probe00 if it exists\n",
    "        if eid[1]=='probe00':\n",
    "            mlapdv = one.load_dataset(eid[0], 'channels.mlapdv.npy', collection=f'alf/probe00/pykilosort')\n",
    "\n",
    "        # Load mlapdv.npy for probe01 if it exists\n",
    "        if eid[1]=='probe01':\n",
    "            mlapdv = one.load_dataset(eid[0], 'channels.mlapdv.npy', collection=f'alf/probe01/pykilosort')\n",
    "\n",
    "\n",
    "        # Create the xyz array\n",
    "        xyz = np.c_[mlapdv[:, 0].astype(np.float64) / 1e6, mlapdv[:, 1].astype(np.float64) / 1e6, mlapdv[:, 2].astype(np.float64) / 1e6]\n",
    "\n",
    "        fit=at.Trajectory.fit(xyz)\n",
    "        proj=fit.project(xyz)\n",
    "\n",
    "        # Create a figure with subplots\n",
    "        fig, axs = plt.subplots(1, 2, figsize=(12, 6),gridspec_kw={'wspace': 0.5})\n",
    "\n",
    "        # Render the first image\n",
    "        ax0 = atlas.plot_tilted_slice(xyz, 0, ax=axs[0])\n",
    "        ax0[0].scatter(proj[:, 1]*1e6, proj[:, 2]*1e6, c='pink', s=5)\n",
    "\n",
    "        # Render the second image\n",
    "        ax1 = atlas.plot_tilted_slice(xyz, 1, ax=axs[1])\n",
    "        ax1[0].scatter(proj[:, 0]*1e6, proj[:, 2]*1e6, c='pink', s=5)\n",
    "\n",
    "        # Save the plot to a file with a unique name\n",
    "        filename = f'static/mlapdv_plot_{i}.png'\n",
    "        fig.savefig(filename, bbox_inches='tight')\n",
    "\n",
    "        # Return the path to the saved file\n",
    "        yield eid, filename"
   ]
  }
 ],
 "metadata": {
  "kernelspec": {
   "display_name": "base",
   "language": "python",
   "name": "python3"
  },
  "language_info": {
   "codemirror_mode": {
    "name": "ipython",
    "version": 3
   },
   "file_extension": ".py",
   "mimetype": "text/x-python",
   "name": "python",
   "nbconvert_exporter": "python",
   "pygments_lexer": "ipython3",
   "version": "3.9.13"
  },
  "orig_nbformat": 4
 },
 "nbformat": 4,
 "nbformat_minor": 2
}
