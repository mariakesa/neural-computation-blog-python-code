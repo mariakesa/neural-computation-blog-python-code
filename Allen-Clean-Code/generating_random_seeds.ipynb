{
 "cells": [
  {
   "cell_type": "code",
   "execution_count": null,
   "metadata": {},
   "outputs": [],
   "source": [
    "import numpy as np"
   ]
  },
  {
   "cell_type": "code",
   "execution_count": 2,
   "metadata": {},
   "outputs": [
    {
     "name": "stdout",
     "output_type": "stream",
     "text": [
      "{'three_session_A': {'natural_movie_one': {0: 48, 1: 69, 2: 26, 3: 68, 4: 84, 5: 24, 6: 93, 7: 58, 8: 15, 9: 24}, 'natural_movie_three': {0: 73, 1: 90, 2: 43, 3: 91, 4: 9, 5: 40, 6: 69, 7: 49, 8: 8, 9: 45}}, 'three_session_B': {'natural_movie_one': {0: 1, 1: 76, 2: 56, 3: 7, 4: 20, 5: 61, 6: 45, 7: 64, 8: 70, 9: 57}}, 'three_session_C': {'natural_movie_one': {0: 25, 1: 56, 2: 54, 3: 62, 4: 65, 5: 35, 6: 57, 7: 74, 8: 79, 9: 39}, 'natural_movie_three': {0: 5, 1: 10, 2: 88, 3: 100, 4: 68, 5: 73, 6: 84, 7: 49, 8: 2, 9: 65}}, 'three_session_C2': {'natural_movie_one': {0: 17, 1: 32, 2: 94, 3: 45, 4: 93, 5: 72, 6: 24, 7: 11, 8: 36, 9: 65}, 'natural_movie_three': {0: 62, 1: 8, 2: 24, 3: 93, 4: 97, 5: 22, 6: 36, 7: 98, 8: 68, 9: 92}}}\n"
     ]
    }
   ],
   "source": [
    "import numpy as np\n",
    "\n",
    "# Set a random seed for reproducibility (optional)\n",
    "np.random.seed(7)\n",
    "\n",
    "# Function to generate a random integer\n",
    "def generate_random_integer():\n",
    "    return np.random.randint(1, 101)  # Generates a random integer between 1 and 100 (inclusive)\n",
    "\n",
    "# Given stimulus_session_dict\n",
    "stimulus_session_dict = {\n",
    "    'three_session_A': ['natural_movie_one', 'natural_movie_three'],\n",
    "    'three_session_B': ['natural_movie_one'],\n",
    "    'three_session_C': ['natural_movie_one', 'natural_movie_three'],\n",
    "    'three_session_C2': ['natural_movie_one', 'natural_movie_three']\n",
    "}\n",
    "\n",
    "# Create the main dictionary\n",
    "random_state_dct = {}\n",
    "\n",
    "# Populate the dictionary using stimulus_session_dict\n",
    "for session, stimuli_list in stimulus_session_dict.items():\n",
    "    session_dict = {}\n",
    "    for stimulus in stimuli_list:\n",
    "        nested_dict = {trial: generate_random_integer() for trial in range(10)}\n",
    "        session_dict[stimulus] = nested_dict\n",
    "    random_state_dct[session] = session_dict\n",
    "\n",
    "# Print the resulting dictionary\n",
    "print(random_state_dct)"
   ]
  }
 ],
 "metadata": {
  "kernelspec": {
   "display_name": "base",
   "language": "python",
   "name": "python3"
  },
  "language_info": {
   "codemirror_mode": {
    "name": "ipython",
    "version": 3
   },
   "file_extension": ".py",
   "mimetype": "text/x-python",
   "name": "python",
   "nbconvert_exporter": "python",
   "pygments_lexer": "ipython3",
   "version": "3.9.13"
  }
 },
 "nbformat": 4,
 "nbformat_minor": 2
}
