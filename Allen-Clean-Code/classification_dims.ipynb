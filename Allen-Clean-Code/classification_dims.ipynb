{
 "cells": [
  {
   "cell_type": "code",
   "execution_count": 1,
   "metadata": {},
   "outputs": [
    {
     "name": "stdout",
     "output_type": "stream",
     "text": [
      "dict_keys(['three_session_A', 'three_session_B', 'three_session_C'])\n"
     ]
    }
   ],
   "source": [
    "import codecs, json\n",
    "import numpy as np\n",
    "\n",
    "file_path='/home/maria/neural-computation-blog-python-code/Allen-Clean-Code/regr_dims_test.json'\n",
    "obj_text = codecs.open(file_path, 'r', encoding='utf-8').read()\n",
    "dct = json.loads(obj_text)\n",
    "print(dct.keys())\n",
    "#a_new = np.array(b_new)"
   ]
  },
  {
   "cell_type": "code",
   "execution_count": 36,
   "metadata": {},
   "outputs": [],
   "source": [
    "import json\n",
    "\n",
    "# Specify the file path\n",
    "json_file_path = 'classification_key.json'\n",
    "\n",
    "# Open the file and load the JSON content\n",
    "with open(json_file_path, 'r') as json_file:\n",
    "    classific_dict = json.load(json_file)"
   ]
  },
  {
   "cell_type": "code",
   "execution_count": 22,
   "metadata": {},
   "outputs": [],
   "source": [
    "weights=np.load('weights.npy', allow_pickle=True)"
   ]
  },
  {
   "cell_type": "code",
   "execution_count": 4,
   "metadata": {},
   "outputs": [],
   "source": [
    "from sklearn.metrics.pairwise import cosine_similarity"
   ]
  },
  {
   "cell_type": "code",
   "execution_count": 5,
   "metadata": {},
   "outputs": [
    {
     "name": "stdout",
     "output_type": "stream",
     "text": [
      "dict_keys(['three_session_A_clip_natural_movie_one_0', 'three_session_A_clip_natural_movie_one_1', 'three_session_A_clip_natural_movie_one_2', 'three_session_A_clip_natural_movie_one_3', 'three_session_A_clip_natural_movie_one_4', 'three_session_A_clip_natural_movie_one_5', 'three_session_A_clip_natural_movie_one_6', 'three_session_A_clip_natural_movie_one_7', 'three_session_A_clip_natural_movie_one_8', 'three_session_A_clip_natural_movie_one_9', 'three_session_A_clip_natural_movie_three_0', 'three_session_A_clip_natural_movie_three_1', 'three_session_A_clip_natural_movie_three_2', 'three_session_A_clip_natural_movie_three_3', 'three_session_A_clip_natural_movie_three_4', 'three_session_A_clip_natural_movie_three_5', 'three_session_A_clip_natural_movie_three_6', 'three_session_A_clip_natural_movie_three_7', 'three_session_A_clip_natural_movie_three_8', 'three_session_A_clip_natural_movie_three_9', 'three_session_A_dino_natural_movie_one_0', 'three_session_A_dino_natural_movie_one_1', 'three_session_A_dino_natural_movie_one_2', 'three_session_A_dino_natural_movie_one_3', 'three_session_A_dino_natural_movie_one_4', 'three_session_A_dino_natural_movie_one_5', 'three_session_A_dino_natural_movie_one_6', 'three_session_A_dino_natural_movie_one_7', 'three_session_A_dino_natural_movie_one_8', 'three_session_A_dino_natural_movie_one_9', 'three_session_A_dino_natural_movie_three_0', 'three_session_A_dino_natural_movie_three_1', 'three_session_A_dino_natural_movie_three_2', 'three_session_A_dino_natural_movie_three_3', 'three_session_A_dino_natural_movie_three_4', 'three_session_A_dino_natural_movie_three_5', 'three_session_A_dino_natural_movie_three_6', 'three_session_A_dino_natural_movie_three_7', 'three_session_A_dino_natural_movie_three_8', 'three_session_A_dino_natural_movie_three_9', 'three_session_A_vit_natural_movie_one_0', 'three_session_A_vit_natural_movie_one_1', 'three_session_A_vit_natural_movie_one_2', 'three_session_A_vit_natural_movie_one_3', 'three_session_A_vit_natural_movie_one_4', 'three_session_A_vit_natural_movie_one_5', 'three_session_A_vit_natural_movie_one_6', 'three_session_A_vit_natural_movie_one_7', 'three_session_A_vit_natural_movie_one_8', 'three_session_A_vit_natural_movie_one_9', 'three_session_A_vit_natural_movie_three_0', 'three_session_A_vit_natural_movie_three_1', 'three_session_A_vit_natural_movie_three_2', 'three_session_A_vit_natural_movie_three_3', 'three_session_A_vit_natural_movie_three_4', 'three_session_A_vit_natural_movie_three_5', 'three_session_A_vit_natural_movie_three_6', 'three_session_A_vit_natural_movie_three_7', 'three_session_A_vit_natural_movie_three_8', 'three_session_A_vit_natural_movie_three_9'])\n"
     ]
    }
   ],
   "source": [
    "sess_A=dct['three_session_A']\n",
    "print(sess_A.keys())"
   ]
  },
  {
   "cell_type": "code",
   "execution_count": 10,
   "metadata": {},
   "outputs": [],
   "source": [
    "import re\n",
    "import numpy as np\n",
    "\n",
    "my_cell = []\n",
    "pattern = re.compile(r'three_session_A_vit_natural_movie_one_')\n",
    "\n",
    "for k in sess_A.keys():\n",
    "    if pattern.match(k):\n",
    "        my_cell.append(sess_A[k][47])\n",
    "\n",
    "my_cell = np.array(my_cell)"
   ]
  },
  {
   "cell_type": "code",
   "execution_count": 11,
   "metadata": {},
   "outputs": [
    {
     "name": "stdout",
     "output_type": "stream",
     "text": [
      "(10, 768)\n"
     ]
    }
   ],
   "source": [
    "print(my_cell.shape)"
   ]
  },
  {
   "cell_type": "code",
   "execution_count": 23,
   "metadata": {},
   "outputs": [
    {
     "data": {
      "text/plain": [
       "(1000, 768)"
      ]
     },
     "execution_count": 23,
     "metadata": {},
     "output_type": "execute_result"
    }
   ],
   "source": [
    "weights.shape"
   ]
  },
  {
   "cell_type": "code",
   "execution_count": 21,
   "metadata": {},
   "outputs": [
    {
     "name": "stdout",
     "output_type": "stream",
     "text": [
      "None\n"
     ]
    }
   ],
   "source": [
    "print(weights)"
   ]
  },
  {
   "cell_type": "code",
   "execution_count": 24,
   "metadata": {},
   "outputs": [],
   "source": [
    "from sklearn.metrics.pairwise import cosine_similarity\n",
    "\n",
    "css=cosine_similarity(my_cell,weights)"
   ]
  },
  {
   "cell_type": "code",
   "execution_count": 26,
   "metadata": {},
   "outputs": [
    {
     "data": {
      "text/plain": [
       "(10, 1000)"
      ]
     },
     "execution_count": 26,
     "metadata": {},
     "output_type": "execute_result"
    }
   ],
   "source": [
    "css.shape"
   ]
  },
  {
   "cell_type": "code",
   "execution_count": 33,
   "metadata": {},
   "outputs": [
    {
     "name": "stdout",
     "output_type": "stream",
     "text": [
      "[323, 40, 494, 41, 557, 325, 557, 165, 393, 237]\n"
     ]
    }
   ],
   "source": [
    "ms=[]\n",
    "for i in range(0,10):\n",
    "    m=np.argmax(css[i,:].flatten())\n",
    "    ms.append(m)\n",
    "\n",
    "print(ms)"
   ]
  },
  {
   "cell_type": "code",
   "execution_count": 38,
   "metadata": {},
   "outputs": [
    {
     "name": "stdout",
     "output_type": "stream",
     "text": [
      "monarch, monarch butterfly, milkweed butterfly, Danaus plexippus\n",
      "American chameleon, anole, Anolis carolinensis\n",
      "chime, bell, gong\n",
      "whiptail, whiptail lizard\n",
      "flagpole, flagstaff\n",
      "sulphur butterfly, sulfur butterfly\n",
      "flagpole, flagstaff\n",
      "black-and-tan coonhound\n",
      "anemone fish\n",
      "miniature pinscher\n"
     ]
    }
   ],
   "source": [
    "for m in ms:\n",
    "    print(classific_dict[str(m)])"
   ]
  },
  {
   "cell_type": "code",
   "execution_count": 30,
   "metadata": {},
   "outputs": [
    {
     "data": {
      "text/plain": [
       "(array([  5.,  35.,  82., 190., 250., 228., 132.,  59.,  16.,   3.]),\n",
       " array([-0.10365738, -0.08196524, -0.0602731 , -0.03858096, -0.01688882,\n",
       "         0.00480332,  0.02649546,  0.0481876 ,  0.06987974,  0.09157188,\n",
       "         0.11326402]),\n",
       " <BarContainer object of 10 artists>)"
      ]
     },
     "execution_count": 30,
     "metadata": {},
     "output_type": "execute_result"
    },
    {
     "data": {
      "image/png": "[encoded data removed]",
      "text/plain": [
       "<Figure size 640x480 with 1 Axes>"
      ]
     },
     "metadata": {},
     "output_type": "display_data"
    }
   ],
   "source": [
    "import matplotlib.pyplot as plt\n",
    "\n",
    "plt.hist(css[3,:])"
   ]
  }
 ],
 "metadata": {
  "kernelspec": {
   "display_name": "base",
   "language": "python",
   "name": "python3"
  },
  "language_info": {
   "codemirror_mode": {
    "name": "ipython",
    "version": 3
   },
   "file_extension": ".py",
   "mimetype": "text/x-python",
   "name": "python",
   "nbconvert_exporter": "python",
   "pygments_lexer": "ipython3",
   "version": "3.9.13"
  }
 },
 "nbformat": 4,
 "nbformat_minor": 2
}
